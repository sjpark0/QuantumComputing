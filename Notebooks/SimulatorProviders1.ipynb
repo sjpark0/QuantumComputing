{
 "cells": [
  {
   "cell_type": "code",
   "execution_count": 1,
   "id": "83340e5b-b91f-4cc2-a69c-adc1e8b1c8e5",
   "metadata": {},
   "outputs": [],
   "source": [
    "from qiskit import *\n",
    "from qiskit_ibm_runtime import QiskitRuntimeService"
   ]
  },
  {
   "cell_type": "code",
   "execution_count": 4,
   "id": "b2f0921b-ee7f-4ce1-914d-c9528c687e70",
   "metadata": {},
   "outputs": [],
   "source": [
    "#IBMQ.save_account(open(\"apikey.txt\",\"r\").read())\n",
    "QiskitRuntimeService.save_account(channel=\"ibm_quantum\", token=open(\"apikey.txt\",\"r\").read(), overwrite=True)"
   ]
  },
  {
   "cell_type": "code",
   "execution_count": 5,
   "id": "453f38bb-80f9-4b3f-818a-a5a1ea37ba74",
   "metadata": {},
   "outputs": [],
   "source": [
    "#IBMQ.load_account()\n",
    "service = QiskitRuntimeService(channel=\"ibm_quantum\")"
   ]
  },
  {
   "cell_type": "code",
   "execution_count": 7,
   "id": "4b6eac09-7843-4e67-8c82-9d488ad01e85",
   "metadata": {},
   "outputs": [
    {
     "data": {
      "text/plain": [
       "[<IBMBackend('ibm_brisbane')>,\n",
       " <IBMBackend('ibm_kyiv')>,\n",
       " <IBMBackend('ibm_sherbrooke')>]"
      ]
     },
     "execution_count": 7,
     "metadata": {},
     "output_type": "execute_result"
    }
   ],
   "source": [
    "#provider = IBMQ.get_provider(\"ibm-q\")\n",
    "service.backends()"
   ]
  },
  {
   "cell_type": "code",
   "execution_count": 8,
   "id": "9746b3ff-9f87-44e5-983e-c000bf6bf0b3",
   "metadata": {},
   "outputs": [
    {
     "name": "stdout",
     "output_type": "stream",
     "text": [
      "ibm_brisbane : 127\n",
      "ibm_kyiv : 127\n",
      "ibm_sherbrooke : 127\n"
     ]
    }
   ],
   "source": [
    "for backend in service.backends():\n",
    "    try:\n",
    "        qubit_count = len(backend.properties().qubits)\n",
    "    except:\n",
    "        qubit_count = \"simulated\"\n",
    "    print(f\"{backend.name} : {qubit_count}\")"
   ]
  },
  {
   "cell_type": "code",
   "execution_count": null,
   "id": "bf709e18-8270-4036-b065-b22a272c72cc",
   "metadata": {},
   "outputs": [],
   "source": []
  }
 ],
 "metadata": {
  "kernelspec": {
   "display_name": "Python 3 (ipykernel)",
   "language": "python",
   "name": "python3"
  },
  "language_info": {
   "codemirror_mode": {
    "name": "ipython",
    "version": 3
   },
   "file_extension": ".py",
   "mimetype": "text/x-python",
   "name": "python",
   "nbconvert_exporter": "python",
   "pygments_lexer": "ipython3",
   "version": "3.10.11"
  }
 },
 "nbformat": 4,
 "nbformat_minor": 5
}
